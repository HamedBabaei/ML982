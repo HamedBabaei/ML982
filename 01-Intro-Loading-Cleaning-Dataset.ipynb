{
 "cells": [
  {
   "cell_type": "markdown",
   "metadata": {},
   "source": [
    "# A Gentle Introduction to NLP\n",
    "---------------\n",
    "## What is Natural Language Processing(NLP)?\n",
    "```\n",
    "NLP is a branch of AI that deals with analyzing, understanding and generating the languages that humans use naturally in order to interface with computers in both written and spoken contexts using natural human languages instead of computer languages.\n",
    "```"
   ]
  },
  {
   "cell_type": "markdown",
   "metadata": {},
   "source": [
    "# Applications of NLP\n",
    "\n",
    "* Machine translation\n",
    "* Natural language generation\n",
    "* Web Search\n",
    "* Spam filters\n",
    "* Sentiment Analysis\n",
    "* Chatbots\n",
    "* ..."
   ]
  },
  {
   "cell_type": "markdown",
   "metadata": {},
   "source": [
    "-----------------------------------------------------------------------------\n",
    "# Pipeline for a simple binary classification on twitter dataset\n",
    "----------------------\n",
    "### 1. Loading Dataset\n",
    "### 2. Dataset Cleaning\n",
    "### 3. Data Vectorization\n",
    "### 4. Train a Model\n",
    "### 5. Evaluation\n",
    "### 6. Checking overfiting and underfiting's using Cross-validations and bias-varians tradeoff\n",
    "\n",
    "----------------------------------------------------------------------------------------------------------\n",
    "------"
   ]
  },
  {
   "cell_type": "markdown",
   "metadata": {},
   "source": [
    "# 1 . Loading Dataset "
   ]
  },
  {
   "cell_type": "code",
   "execution_count": 1,
   "metadata": {
    "scrolled": true
   },
   "outputs": [
    {
     "name": "stdout",
     "output_type": "stream",
     "text": [
      "Size of train-set is : 700\n",
      "Size of test-set is : 300\n"
     ]
    },
    {
     "data": {
      "text/html": [
       "<div>\n",
       "<style scoped>\n",
       "    .dataframe tbody tr th:only-of-type {\n",
       "        vertical-align: middle;\n",
       "    }\n",
       "\n",
       "    .dataframe tbody tr th {\n",
       "        vertical-align: top;\n",
       "    }\n",
       "\n",
       "    .dataframe thead th {\n",
       "        text-align: right;\n",
       "    }\n",
       "</style>\n",
       "<table border=\"1\" class=\"dataframe\">\n",
       "  <thead>\n",
       "    <tr style=\"text-align: right;\">\n",
       "      <th></th>\n",
       "      <th>labels</th>\n",
       "      <th>tweets</th>\n",
       "    </tr>\n",
       "  </thead>\n",
       "  <tbody>\n",
       "    <tr>\n",
       "      <th>0</th>\n",
       "      <td>pos</td>\n",
       "      <td>Now all @Apple has to do is get swype on the i...</td>\n",
       "    </tr>\n",
       "    <tr>\n",
       "      <th>1</th>\n",
       "      <td>pos</td>\n",
       "      <td>@Apple will be adding more carrier support to ...</td>\n",
       "    </tr>\n",
       "    <tr>\n",
       "      <th>2</th>\n",
       "      <td>pos</td>\n",
       "      <td>Hilarious @youtube video - guy does a duet wit...</td>\n",
       "    </tr>\n",
       "    <tr>\n",
       "      <th>3</th>\n",
       "      <td>pos</td>\n",
       "      <td>@RIM you made it too easy for me to switch to ...</td>\n",
       "    </tr>\n",
       "    <tr>\n",
       "      <th>4</th>\n",
       "      <td>pos</td>\n",
       "      <td>I just realized that the reason I got into twi...</td>\n",
       "    </tr>\n",
       "  </tbody>\n",
       "</table>\n",
       "</div>"
      ],
      "text/plain": [
       "  labels                                             tweets\n",
       "0    pos  Now all @Apple has to do is get swype on the i...\n",
       "1    pos  @Apple will be adding more carrier support to ...\n",
       "2    pos  Hilarious @youtube video - guy does a duet wit...\n",
       "3    pos  @RIM you made it too easy for me to switch to ...\n",
       "4    pos  I just realized that the reason I got into twi..."
      ]
     },
     "execution_count": 1,
     "metadata": {},
     "output_type": "execute_result"
    }
   ],
   "source": [
    "#pandas library for working with dataframes \n",
    "import pandas as pd\n",
    "\n",
    "#loading dataset\n",
    "train = pd.read_csv(\"train_df.csv\")\n",
    "test = pd.read_csv(\"test_df.csv\")\n",
    "# shape of dataset\n",
    "print(\"Size of train-set is : {}\".format(train.shape[0]))\n",
    "print(\"Size of test-set is : {}\".format(test.shape[0]))\n",
    "\n",
    "#show a few lines of dataframe\n",
    "train.head()"
   ]
  },
  {
   "cell_type": "code",
   "execution_count": 2,
   "metadata": {},
   "outputs": [
    {
     "name": "stdout",
     "output_type": "stream",
     "text": [
      "[tweet]>>> RT @YashasJoshi: #android 4.0!!  Ice Cream Sandwich will now make all other smartphone operating systems look outdated.  #Androidbeam Wo ...\n",
      "[label]>>>pos\n",
      "====================\n",
      "[tweet]>>> Had ma Ipas not 24 hours an I jailbroke it...now its SHAGGED itunes won't letme restore it @apple SYM!!!!\n",
      "[label]>>>neg\n",
      "====================\n",
      "[tweet]>>> Interesting... @apple now requires you to have a reservation ?         #apple #iphone #4S    :  http://t.co/zZK4fTii\n",
      "[label]>>>neg\n",
      "====================\n",
      "[tweet]>>> Been on hold with @apple customer service for 25 minutes. Wow, lt's like they're #timewarnercable.\n",
      "[label]>>>neg\n",
      "====================\n",
      "[tweet]>>> RT @JDougyJ: hey @apple do you wanna fix my fucking playlist order, you piece of shit\n",
      "[label]>>>neg\n",
      "====================\n",
      "[tweet]>>> The new Nexus looks good! UI feel a bit confusing but I guess Android users are ok with that! Now, try it :) #Google #android #nexusprime\n",
      "[label]>>>pos\n",
      "====================\n",
      "[tweet]>>> @Apple #iOS5 gm on ipad1 is very slow wash better on beta7/8 solve this problem, or give me the ipad2\n",
      "[label]>>>neg\n",
      "====================\n",
      "[tweet]>>> Just apply for a job at @Apple, hope they call me lol\n",
      "[label]>>>pos\n",
      "====================\n",
      "[tweet]>>> Smashed yet another #iPhone screen. When are @apple gonna make the phone more durable!!! Tired of fixing it myself!!!\n",
      "[label]>>>neg\n",
      "====================\n",
      "[tweet]>>> New Galaxy Nexus: App Improvements -  Inbuilt Panoramic Pictures #nexus #samsung #google #android bit.ly/nEJbyE\n",
      "[label]>>>pos\n",
      "====================\n"
     ]
    }
   ],
   "source": [
    "# print few tweets to see what is look like the tweets\n",
    "sample_no = 10\n",
    "samples = train.sample(sample_no)\n",
    "for i in range(sample_no):\n",
    "    print(\"[tweet]>>> {}\\n[label]>>>{}\".format(samples['tweets'].tolist()[i], samples['labels'].tolist()[i]))\n",
    "    print(\"====================\")\n",
    "tweets = samples['tweets'].tolist()"
   ]
  },
  {
   "cell_type": "markdown",
   "metadata": {},
   "source": [
    "# 2. Cleaning text"
   ]
  },
  {
   "cell_type": "markdown",
   "metadata": {},
   "source": [
    "### What is text cleaning goal?\n",
    "* Upper case and lower cases depend on your feature extractor and in most of time except n-gram feature extraction on char level you don't need to set all of them to upper case or lower case!\n",
    "* stopword removal, the words that appear mostly and doesn't convey any contextual meaning or pattern for classification\n",
    "* punchuations, and characters like ‘d’, ‘r’, ‘a’, ‘e’ don’t hold any context individually\n",
    "* in tweeter dataset: #'s, @'s, url's and numbers's do they have a meaning?\n",
    "* and  .."
   ]
  },
  {
   "cell_type": "code",
   "execution_count": 3,
   "metadata": {
    "scrolled": false
   },
   "outputs": [
    {
     "data": {
      "text/plain": [
       "['RT @YashasJoshi: #android 4.0!!  Ice Cream Sandwich will now make all other smartphone operating systems look outdated.  #Androidbeam Wo ...',\n",
       " \"Had ma Ipas not 24 hours an I jailbroke it...now its SHAGGED itunes won't letme restore it @apple SYM!!!!\",\n",
       " 'Interesting... @apple now requires you to have a reservation ?         #apple #iphone #4S    :  http://t.co/zZK4fTii',\n",
       " \"Been on hold with @apple customer service for 25 minutes. Wow, lt's like they're #timewarnercable.\",\n",
       " 'RT @JDougyJ: hey @apple do you wanna fix my fucking playlist order, you piece of shit',\n",
       " 'The new Nexus looks good! UI feel a bit confusing but I guess Android users are ok with that! Now, try it :) #Google #android #nexusprime',\n",
       " '@Apple #iOS5 gm on ipad1 is very slow wash better on beta7/8 solve this problem, or give me the ipad2',\n",
       " 'Just apply for a job at @Apple, hope they call me lol',\n",
       " 'Smashed yet another #iPhone screen. When are @apple gonna make the phone more durable!!! Tired of fixing it myself!!!',\n",
       " 'New Galaxy Nexus: App Improvements -  Inbuilt Panoramic Pictures #nexus #samsung #google #android bit.ly/nEJbyE']"
      ]
     },
     "execution_count": 3,
     "metadata": {},
     "output_type": "execute_result"
    }
   ],
   "source": [
    "tweets"
   ]
  },
  {
   "cell_type": "markdown",
   "metadata": {},
   "source": [
    "**Lowercased**\n",
    "![](images/lowercase.png)"
   ]
  },
  {
   "cell_type": "code",
   "execution_count": 4,
   "metadata": {},
   "outputs": [
    {
     "name": "stdout",
     "output_type": "stream",
     "text": [
      "rt @yashasjoshi: #android 4.0!!  ice cream sandwich will now make all other smartphone operating systems look outdated.  #androidbeam wo ...\n"
     ]
    }
   ],
   "source": [
    "sample1 = tweets[0]\n",
    "# lowerize the text\n",
    "sample1 = sample1.lower()\n",
    "print(sample1)"
   ]
  },
  {
   "cell_type": "code",
   "execution_count": 5,
   "metadata": {},
   "outputs": [
    {
     "name": "stdout",
     "output_type": "stream",
     "text": [
      "rt : !! ice cream sandwich will now make all other smartphone operating systems look outdated. wo ...\n"
     ]
    }
   ],
   "source": [
    "#removing #'s @'s and ... related to a tweeet\n",
    "#URLs - Hashtags - Mentions - Reserved words (RT, FAV) - Emojis - Smileys\n",
    "import preprocessor as p\n",
    "sample1 = p.clean(sample1)\n",
    "print(sample1)"
   ]
  },
  {
   "cell_type": "markdown",
   "metadata": {},
   "source": [
    "**tokenize text to remove stop words**"
   ]
  },
  {
   "cell_type": "code",
   "execution_count": 6,
   "metadata": {},
   "outputs": [
    {
     "name": "stdout",
     "output_type": "stream",
     "text": [
      "['rt', ':', '!', '!', 'ice', 'cream', 'sandwich', 'will', 'now', 'make', 'all', 'other', 'smartphone', 'operating', 'systems', 'look', 'outdated', '.', 'wo', '...']\n"
     ]
    }
   ],
   "source": [
    "#a word tokenizer\n",
    "import nltk\n",
    "tokens = nltk.word_tokenize(sample1)\n",
    "print(tokens)"
   ]
  },
  {
   "cell_type": "code",
   "execution_count": 7,
   "metadata": {},
   "outputs": [
    {
     "name": "stdout",
     "output_type": "stream",
     "text": [
      "The size of stopwords list: 179\n",
      "English StopWords::\n",
      " {'has', 'further', 'up', 'will', 'hasn', 'wouldn', 'shan', 'because', 'its', 'against', 'the', 'or', \"won't\", 'there', \"wouldn't\", 'ours', 'myself', 'hers', 'nor', \"she's\", 'in', 'am', 'couldn', 'i', 'all', \"should've\", 've', 'needn', 'weren', \"shan't\", 'ma', 'such', \"couldn't\", 'm', 'ain', 'while', 'under', 'mustn', 'your', 'me', 'that', 'only', 'did', 'was', 'does', 'over', 'is', 'll', 'to', 't', 'hadn', 'you', 'not', 'other', 'should', 'as', 'out', \"haven't\", 'being', 'those', 're', 'won', \"isn't\", \"needn't\", 'yours', 'doesn', 'ourselves', 'do', 'but', 'have', 'into', 'having', 'for', 'most', 'with', 'at', 'off', 'him', 'until', \"shouldn't\", 'been', 'by', 'theirs', 'after', \"hasn't\", 'o', 'too', 'which', 'had', 'when', 'and', 'below', 'it', 'our', 'an', 'didn', 'down', 'who', 'few', 'now', 'above', 'of', 'd', \"you're\", 'are', \"don't\", \"hadn't\", 'here', 'her', 'some', 'my', \"you've\", \"that'll\", 'than', \"mustn't\", 'during', 'very', 'this', 'isn', 'be', 'through', 'if', \"aren't\", 'before', 'just', 'were', 'both', 'they', 'no', 'these', \"doesn't\", 'don', \"mightn't\", 'each', \"it's\", 'on', \"you'd\", 'from', 'same', \"wasn't\", 'what', 'why', 'we', 'y', 'he', 'a', 'wasn', 'any', 'then', 'can', \"you'll\", 'once', 'yourself', 'she', 'haven', \"didn't\", 'them', 'so', 'aren', 'their', 's', 'where', 'again', 'mightn', 'themselves', 'himself', 'itself', 'more', 'yourselves', 'how', 'his', 'herself', 'whom', 'about', \"weren't\", 'shouldn', 'between', 'own', 'doing'}\n"
     ]
    }
   ],
   "source": [
    "#stopword list \n",
    "from nltk.corpus import stopwords\n",
    "\n",
    "stop_words = set(stopwords.words('english'))\n",
    "print(\"The size of stopwords list:\", len(stop_words))\n",
    "print(\"English StopWords::\\n\",stop_words)"
   ]
  },
  {
   "cell_type": "markdown",
   "metadata": {},
   "source": [
    "**Now stopwords removal from tokenized text - all in one**"
   ]
  },
  {
   "cell_type": "code",
   "execution_count": 8,
   "metadata": {},
   "outputs": [
    {
     "name": "stdout",
     "output_type": "stream",
     "text": [
      "SAMPLE:   rt : !! ice cream sandwich will now make all other smartphone operating systems look outdated. wo ...\n",
      "CLEANED:    rt : ! ! ice cream sandwich make smartphone operating systems look outdated . wo ...\n"
     ]
    }
   ],
   "source": [
    "import nltk\n",
    "from nltk.corpus import stopwords\n",
    "\n",
    "print(\"SAMPLE:  \",sample1)\n",
    "tokens = nltk.word_tokenize(sample1)\n",
    "\n",
    "stop_words = set(stopwords.words('english'))\n",
    "\n",
    "new_tokens = []\n",
    "for token in tokens:\n",
    "    if token not in stop_words:\n",
    "        new_tokens.append(token)\n",
    "sample1 = \" \".join(new_tokens)\n",
    "print(\"CLEANED:   \",\" \".join(new_tokens))"
   ]
  },
  {
   "cell_type": "markdown",
   "metadata": {},
   "source": [
    "**Punchuation Marks Removal**"
   ]
  },
  {
   "cell_type": "code",
   "execution_count": 9,
   "metadata": {},
   "outputs": [
    {
     "name": "stdout",
     "output_type": "stream",
     "text": [
      "SAMPLE::    rt : ! ! ice cream sandwich make smartphone operating systems look outdated . wo ...\n",
      "STRIPPED:: rt    ice cream sandwich make smartphone operating systems look outdated  wo \n"
     ]
    }
   ],
   "source": [
    "# remove punctuation from each word\n",
    "import string\n",
    "print(\"SAMPLE::   \", sample1)\n",
    "#tables of puncuations\n",
    "table = str.maketrans('', '', string.punctuation)\n",
    "\n",
    "tokens = nltk.word_tokenize(sample1)\n",
    "\n",
    "stripped = [token.translate(table) for token in tokens]\n",
    "stripted = ' '.join(stripped)\n",
    "print(\"STRIPPED::\",stripted)"
   ]
  },
  {
   "cell_type": "markdown",
   "metadata": {},
   "source": [
    "**Stemming**"
   ]
  },
  {
   "cell_type": "code",
   "execution_count": 16,
   "metadata": {},
   "outputs": [
    {
     "name": "stdout",
     "output_type": "stream",
     "text": [
      "tokens before stemming:: ['rt', ':', '!', '!', 'ice', 'cream', 'sandwich', 'make', 'smartphone', 'operating', 'systems', 'look', 'outdated', '.', 'wo', '...']\n",
      "tokens after stemming:: ['rt', ':', '!', '!', 'ice', 'cream', 'sandwich', 'make', 'smartphon', 'oper', 'system', 'look', 'outdat', '.', 'wo', '...']\n"
     ]
    }
   ],
   "source": [
    "from nltk.stem import PorterStemmer\n",
    "stemmer = PorterStemmer()\n",
    "\n",
    "tokens = nltk.word_tokenize(sample1)\n",
    "print(\"tokens before stemming::\", tokens)\n",
    "\n",
    "stem = [stemmer.stem(token) for token in tokens]\n",
    "print(\"tokens after stemming::\", stem)"
   ]
  },
  {
   "cell_type": "markdown",
   "metadata": {},
   "source": [
    "## lets put all in together to build a method for preprocessing a tweet"
   ]
  },
  {
   "cell_type": "code",
   "execution_count": 17,
   "metadata": {},
   "outputs": [],
   "source": [
    "import preprocessor as p\n",
    "from nltk.corpus import stopwords\n",
    "import nltk\n",
    "import string\n",
    "from nltk.stem import PorterStemmer\n",
    "\n",
    "stemmer = PorterStemmer()\n",
    "stop_words = set(stopwords.words('english'))\n",
    "table = str.maketrans('', '', string.punctuation)\n",
    "\n",
    "def preprocessing(tweet):\n",
    "    tweet = tweet.lower() \n",
    "    \n",
    "    tweet = p.clean(tweet) \n",
    "    \n",
    "    tokens = nltk.word_tokenize(tweet)\n",
    "\n",
    "    tokens = [ token.translate(table) for token in tokens ]\n",
    "    \n",
    "    tokens = [ token.translate(table) for token in tokens]\n",
    "    \n",
    "    tokens = [ token for token in tokens if token not in stop_words]\n",
    "    \n",
    "    tokens = [stemmer.stem(token) for token in tokens]\n",
    "    \n",
    "    return ' '.join(tokens)"
   ]
  },
  {
   "cell_type": "code",
   "execution_count": 18,
   "metadata": {},
   "outputs": [
    {
     "data": {
      "text/plain": [
       "['RT @YashasJoshi: #android 4.0!!  Ice Cream Sandwich will now make all other smartphone operating systems look outdated.  #Androidbeam Wo ...',\n",
       " \"Had ma Ipas not 24 hours an I jailbroke it...now its SHAGGED itunes won't letme restore it @apple SYM!!!!\",\n",
       " 'Interesting... @apple now requires you to have a reservation ?         #apple #iphone #4S    :  http://t.co/zZK4fTii',\n",
       " \"Been on hold with @apple customer service for 25 minutes. Wow, lt's like they're #timewarnercable.\",\n",
       " 'RT @JDougyJ: hey @apple do you wanna fix my fucking playlist order, you piece of shit',\n",
       " 'The new Nexus looks good! UI feel a bit confusing but I guess Android users are ok with that! Now, try it :) #Google #android #nexusprime',\n",
       " '@Apple #iOS5 gm on ipad1 is very slow wash better on beta7/8 solve this problem, or give me the ipad2',\n",
       " 'Just apply for a job at @Apple, hope they call me lol',\n",
       " 'Smashed yet another #iPhone screen. When are @apple gonna make the phone more durable!!! Tired of fixing it myself!!!',\n",
       " 'New Galaxy Nexus: App Improvements -  Inbuilt Panoramic Pictures #nexus #samsung #google #android bit.ly/nEJbyE']"
      ]
     },
     "execution_count": 18,
     "metadata": {},
     "output_type": "execute_result"
    }
   ],
   "source": [
    "tweets"
   ]
  },
  {
   "cell_type": "code",
   "execution_count": 19,
   "metadata": {},
   "outputs": [
    {
     "name": "stdout",
     "output_type": "stream",
     "text": [
      "rt    ice cream sandwich make smartphon oper system look outdat  wo \n",
      "ipa hour jailbrok  shag itun wo nt letm restor sym    \n",
      "interest  requir reserv  \n",
      "hold custom servic minut  wow  lt like \n",
      "rt  hey wan na fix fuck playlist order  piec shit\n",
      "new nexu look good  ui feel bit confus guess android user ok   tri\n",
      "gm ipad1 slow wash better beta78 solv problem  give ipad2\n",
      "appli job  hope call lol\n",
      "smash yet anoth screen  gon na make phone durabl    tire fix   \n",
      "new galaxi nexu  app improv  inbuilt panoram pictur\n"
     ]
    }
   ],
   "source": [
    "for tweet in tweets:\n",
    "    cleaned = preprocessing(tweet)\n",
    "    print(cleaned)"
   ]
  },
  {
   "cell_type": "markdown",
   "metadata": {},
   "source": [
    "# Thanks for your attention for the first part of this lecture!\n",
    "\n"
   ]
  },
  {
   "cell_type": "code",
   "execution_count": null,
   "metadata": {},
   "outputs": [],
   "source": []
  }
 ],
 "metadata": {
  "kernelspec": {
   "display_name": "Python 3",
   "language": "python",
   "name": "python3"
  },
  "language_info": {
   "codemirror_mode": {
    "name": "ipython",
    "version": 3
   },
   "file_extension": ".py",
   "mimetype": "text/x-python",
   "name": "python",
   "nbconvert_exporter": "python",
   "pygments_lexer": "ipython3",
   "version": "3.6.9"
  }
 },
 "nbformat": 4,
 "nbformat_minor": 2
}
