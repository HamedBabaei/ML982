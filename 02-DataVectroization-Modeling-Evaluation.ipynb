{
 "cells": [
  {
   "cell_type": "markdown",
   "metadata": {},
   "source": [
    "-----------------------------------------------------------------------------\n",
    "# Pipeline for a simple binary classification on twitter dataset\n",
    "----------------------\n",
    "1. Loading Dataset\n",
    "2. Dataset Cleaning\n",
    "### 3. Data Vectorization:\n",
    "### 4. Train a Model\n",
    "### 5. Evaluation\n",
    "### 6. Checking overfiting and underfiting's using Cross-validations and bias-varians tradeoff\n",
    "\n"
   ]
  },
  {
   "cell_type": "markdown",
   "metadata": {},
   "source": [
    "### Loading dataset and CleandDataset method from previous section"
   ]
  },
  {
   "cell_type": "code",
   "execution_count": 30,
   "metadata": {},
   "outputs": [
    {
     "name": "stdout",
     "output_type": "stream",
     "text": [
      "Size of train-set is : 700\n",
      "Size of test-set is : 300\n"
     ]
    },
    {
     "data": {
      "text/html": [
       "<div>\n",
       "<style scoped>\n",
       "    .dataframe tbody tr th:only-of-type {\n",
       "        vertical-align: middle;\n",
       "    }\n",
       "\n",
       "    .dataframe tbody tr th {\n",
       "        vertical-align: top;\n",
       "    }\n",
       "\n",
       "    .dataframe thead th {\n",
       "        text-align: right;\n",
       "    }\n",
       "</style>\n",
       "<table border=\"1\" class=\"dataframe\">\n",
       "  <thead>\n",
       "    <tr style=\"text-align: right;\">\n",
       "      <th></th>\n",
       "      <th>labels</th>\n",
       "      <th>tweets</th>\n",
       "    </tr>\n",
       "  </thead>\n",
       "  <tbody>\n",
       "    <tr>\n",
       "      <th>0</th>\n",
       "      <td>pos</td>\n",
       "      <td>Now all @Apple has to do is get swype on the i...</td>\n",
       "    </tr>\n",
       "    <tr>\n",
       "      <th>1</th>\n",
       "      <td>pos</td>\n",
       "      <td>@Apple will be adding more carrier support to ...</td>\n",
       "    </tr>\n",
       "    <tr>\n",
       "      <th>2</th>\n",
       "      <td>pos</td>\n",
       "      <td>Hilarious @youtube video - guy does a duet wit...</td>\n",
       "    </tr>\n",
       "    <tr>\n",
       "      <th>3</th>\n",
       "      <td>pos</td>\n",
       "      <td>@RIM you made it too easy for me to switch to ...</td>\n",
       "    </tr>\n",
       "    <tr>\n",
       "      <th>4</th>\n",
       "      <td>pos</td>\n",
       "      <td>I just realized that the reason I got into twi...</td>\n",
       "    </tr>\n",
       "  </tbody>\n",
       "</table>\n",
       "</div>"
      ],
      "text/plain": [
       "  labels                                             tweets\n",
       "0    pos  Now all @Apple has to do is get swype on the i...\n",
       "1    pos  @Apple will be adding more carrier support to ...\n",
       "2    pos  Hilarious @youtube video - guy does a duet wit...\n",
       "3    pos  @RIM you made it too easy for me to switch to ...\n",
       "4    pos  I just realized that the reason I got into twi..."
      ]
     },
     "execution_count": 30,
     "metadata": {},
     "output_type": "execute_result"
    }
   ],
   "source": [
    "#clean dataset mudole\n",
    "from CleanDataset import preprocessing\n",
    "\n",
    "#pandas library for working with dataframes \n",
    "import pandas as pd\n",
    "\n",
    "#loading dataset\n",
    "train = pd.read_csv(\"train_df.csv\")\n",
    "test = pd.read_csv(\"test_df.csv\")\n",
    "# shape of dataset\n",
    "print(\"Size of train-set is : {}\".format(train.shape[0]))\n",
    "print(\"Size of test-set is : {}\".format(test.shape[0]))\n",
    "\n",
    "#show a few lines of dataframe\n",
    "train.head()"
   ]
  },
  {
   "cell_type": "markdown",
   "metadata": {},
   "source": [
    "### preprocess data and clean train and testsets"
   ]
  },
  {
   "cell_type": "code",
   "execution_count": 31,
   "metadata": {},
   "outputs": [],
   "source": [
    "#get train and test labels\n",
    "X_train, X_test = train['tweets'].tolist(), test['tweets'].tolist()\n",
    "y_train, y_test = train['labels'].tolist(), test['labels'].tolist()\n",
    "\n",
    "#cleaning train set\n",
    "X_train = [preprocessing(x) for x in X_train ]\n",
    "\n",
    "#cleaning test set\n",
    "X_test = [preprocessing(x) for x in X_test ]"
   ]
  },
  {
   "cell_type": "markdown",
   "metadata": {},
   "source": [
    "# 3. Data Vectorization\n",
    "\n",
    "to train a machine learning model we need to convert our dataset into vectors a few exampls of feature extractors are in bellow\n",
    "\n",
    "* TFIDF\n",
    "* Bag of Words\n",
    "* Word2Vec\n",
    "* Glove\n",
    "* Bert\n",
    "* Albert\n",
    "* ElmoNet\n",
    "* fasttext\n",
    "* and .."
   ]
  },
  {
   "cell_type": "markdown",
   "metadata": {},
   "source": [
    "** BOW ** Bag of Words\n",
    "\n",
    "* A simplest text vectorization techniques\n",
    "\n",
    "* Consider these two sentences:\n",
    "![](images/bow1.jpeg)\n",
    "\n",
    "* The intuition behind BOW is that two sentences are said to be similar if they contain similar set of words.\n",
    "\n",
    "![](images/bow-2.jpeg)\n",
    "\n",
    "* This will create a matrix of **dxn** where **d** is the total number of unique tokens in the corpus and **n** equals to the number of documents. In the above example, matrix will be of shape **11x2**."
   ]
  },
  {
   "cell_type": "markdown",
   "metadata": {},
   "source": [
    "# DO NOT TRAIN ON TEST SET! YOUR TRANSFORMER SHOULD FIT ON TRIN SET ONLY!"
   ]
  },
  {
   "cell_type": "code",
   "execution_count": 32,
   "metadata": {},
   "outputs": [],
   "source": [
    "#importing a vectorizer for BOW\n",
    "from sklearn.feature_extraction.text import CountVectorizer\n",
    "\n",
    "vectorizer = CountVectorizer()\n",
    "\n",
    "#learning a vectorizer from train using fit and using transform \n",
    "#we will transform any text into vectors using learned vectorizer\n",
    "X_train_data = vectorizer.fit_transform(X_train)\n",
    "X_test_data = vectorizer.transform(X_test)"
   ]
  },
  {
   "cell_type": "markdown",
   "metadata": {},
   "source": [
    "# 4. Train a Model\n"
   ]
  },
  {
   "cell_type": "code",
   "execution_count": 48,
   "metadata": {},
   "outputs": [],
   "source": [
    "#call scikit-learn library for naive bayse model\n",
    "from sklearn.naive_bayes import MultinomialNB\n",
    "\n",
    "#define an instance\n",
    "classifier = MultinomialNB()\n",
    "\n",
    "#train a model on train data\n",
    "classifier.fit(X_train_data, y_train)\n",
    "\n",
    "#make a prediction on test set\n",
    "predict = classifier.predict(X_test_data)"
   ]
  },
  {
   "cell_type": "markdown",
   "metadata": {},
   "source": [
    "# 5. Evaluation"
   ]
  },
  {
   "cell_type": "code",
   "execution_count": 49,
   "metadata": {},
   "outputs": [
    {
     "name": "stdout",
     "output_type": "stream",
     "text": [
      "Predict 10 samples: ['neg' 'pos' 'pos' 'pos' 'pos' 'pos' 'pos' 'pos' 'pos' 'pos']\n",
      "truth of 10 samples: ['pos', 'pos', 'pos', 'pos', 'pos', 'pos', 'pos', 'pos', 'pos', 'pos']\n"
     ]
    }
   ],
   "source": [
    "print(\"Predict 10 samples:\", predict[:10])\n",
    "print(\"truth of 10 samples:\", y_test[:10])"
   ]
  },
  {
   "cell_type": "code",
   "execution_count": 50,
   "metadata": {},
   "outputs": [
    {
     "name": "stdout",
     "output_type": "stream",
     "text": [
      "Accuracy: 0.7133333333333334\n",
      "              precision    recall  f1-score   support\n",
      "\n",
      "         neg       0.75      0.70      0.72       160\n",
      "         pos       0.68      0.73      0.70       140\n",
      "\n",
      "   micro avg       0.71      0.71      0.71       300\n",
      "   macro avg       0.71      0.71      0.71       300\n",
      "weighted avg       0.72      0.71      0.71       300\n",
      "\n"
     ]
    }
   ],
   "source": [
    "from sklearn.metrics import accuracy_score, classification_report, confusion_matrix\n",
    "\n",
    "#accuracy of the model\n",
    "print(\"Accuracy:\", accuracy_score(predict, y_test))\n",
    "\n",
    "#evaluation report\n",
    "print(classification_report(predict, y_test))"
   ]
  },
  {
   "cell_type": "code",
   "execution_count": 51,
   "metadata": {},
   "outputs": [
    {
     "data": {
      "image/png": "[encoded data removed]",
      "text/plain": [
       "<Figure size 360x216 with 2 Axes>"
      ]
     },
     "metadata": {},
     "output_type": "display_data"
    }
   ],
   "source": [
    "import matplotlib.pyplot as plt\n",
    "import seaborn as sns\n",
    "\n",
    "cmtx = confusion_matrix(predict, y_test)\n",
    "plt.figure(figsize=(5,3))\n",
    "sns.heatmap(cmtx, annot=True, fmt='d')\n",
    "plt.title(\"Test Confussion Matrix\")\n",
    "\n",
    "plt.show()"
   ]
  },
  {
   "cell_type": "markdown",
   "metadata": {},
   "source": [
    "# 6. Checking overfiting and underfiting's using Cross-validations and bias-varians tradeoff"
   ]
  },
  {
   "cell_type": "code",
   "execution_count": 52,
   "metadata": {},
   "outputs": [],
   "source": [
    "from sklearn.model_selection import cross_val_score"
   ]
  },
  {
   "cell_type": "code",
   "execution_count": 53,
   "metadata": {},
   "outputs": [
    {
     "name": "stdout",
     "output_type": "stream",
     "text": [
      "Mean 5-Fold CrossValidation:0.7699999999999999 (+/- 0.04526565576501389)\n"
     ]
    }
   ],
   "source": [
    "estimator = MultinomialNB()\n",
    "\n",
    "scores = cross_val_score(estimator, X_train_data, y_train, cv=5)\n",
    "\n",
    "print(\"Mean 5-Fold CrossValidation:{} (+/- {})\".format(scores.mean(), scores.std()))"
   ]
  },
  {
   "cell_type": "markdown",
   "metadata": {},
   "source": [
    "# Conclussion:\n",
    "\n",
    "* if you don't have test set befor any work split your dataset into train-test sets for training and evauation of your models\n",
    "* always check your model overfitings\n",
    "* More works needs to be done, the last but not least, try to using different data vectorizer like `TF-IDF` or `Word Embeddings` to see the differences in results, or pay more attention ot preprocessings and so on.\n"
   ]
  },
  {
   "cell_type": "code",
   "execution_count": null,
   "metadata": {},
   "outputs": [],
   "source": []
  }
 ],
 "metadata": {
  "kernelspec": {
   "display_name": "Python 3",
   "language": "python",
   "name": "python3"
  },
  "language_info": {
   "codemirror_mode": {
    "name": "ipython",
    "version": 3
   },
   "file_extension": ".py",
   "mimetype": "text/x-python",
   "name": "python",
   "nbconvert_exporter": "python",
   "pygments_lexer": "ipython3",
   "version": "3.6.9"
  }
 },
 "nbformat": 4,
 "nbformat_minor": 2
}
